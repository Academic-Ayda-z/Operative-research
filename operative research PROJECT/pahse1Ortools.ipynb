{
 "cells": [
  {
   "cell_type": "code",
   "execution_count": 3,
   "metadata": {},
   "outputs": [
    {
     "name": "stdout",
     "output_type": "stream",
     "text": [
      "Defaulting to user installation because normal site-packages is not writeable\n",
      "Requirement already satisfied: iminizinc in ./.local/lib/python3.10/site-packages (0.4)\n",
      "Requirement already satisfied: ipython in ./.local/lib/python3.10/site-packages (from iminizinc) (8.12.0)\n",
      "Requirement already satisfied: backcall in ./.local/lib/python3.10/site-packages (from ipython->iminizinc) (0.2.0)\n",
      "Requirement already satisfied: decorator in ./.local/lib/python3.10/site-packages (from ipython->iminizinc) (5.1.1)\n",
      "Requirement already satisfied: jedi>=0.16 in ./.local/lib/python3.10/site-packages (from ipython->iminizinc) (0.18.2)\n",
      "Requirement already satisfied: matplotlib-inline in ./.local/lib/python3.10/site-packages (from ipython->iminizinc) (0.1.6)\n",
      "Requirement already satisfied: pickleshare in ./.local/lib/python3.10/site-packages (from ipython->iminizinc) (0.7.5)\n",
      "Requirement already satisfied: prompt-toolkit!=3.0.37,<3.1.0,>=3.0.30 in ./.local/lib/python3.10/site-packages (from ipython->iminizinc) (3.0.38)\n",
      "Requirement already satisfied: pygments>=2.4.0 in ./.local/lib/python3.10/site-packages (from ipython->iminizinc) (2.15.1)\n",
      "Requirement already satisfied: stack-data in ./.local/lib/python3.10/site-packages (from ipython->iminizinc) (0.6.2)\n",
      "Requirement already satisfied: traitlets>=5 in ./.local/lib/python3.10/site-packages (from ipython->iminizinc) (5.9.0)\n",
      "Requirement already satisfied: pexpect>4.3 in /usr/lib/python3/dist-packages (from ipython->iminizinc) (4.8.0)\n",
      "Requirement already satisfied: parso<0.9.0,>=0.8.0 in ./.local/lib/python3.10/site-packages (from jedi>=0.16->ipython->iminizinc) (0.8.3)\n",
      "Requirement already satisfied: wcwidth in ./.local/lib/python3.10/site-packages (from prompt-toolkit!=3.0.37,<3.1.0,>=3.0.30->ipython->iminizinc) (0.2.6)\n",
      "Requirement already satisfied: executing>=1.2.0 in ./.local/lib/python3.10/site-packages (from stack-data->ipython->iminizinc) (1.2.0)\n",
      "Requirement already satisfied: asttokens>=2.1.0 in ./.local/lib/python3.10/site-packages (from stack-data->ipython->iminizinc) (2.2.1)\n",
      "Requirement already satisfied: pure-eval in ./.local/lib/python3.10/site-packages (from stack-data->ipython->iminizinc) (0.2.2)\n",
      "Requirement already satisfied: six in /usr/lib/python3/dist-packages (from asttokens>=2.1.0->stack-data->ipython->iminizinc) (1.16.0)\n",
      "Note: you may need to restart the kernel to use updated packages.\n"
     ]
    }
   ],
   "source": [
    "%pip install -U iminizinc"
   ]
  },
  {
   "cell_type": "code",
   "execution_count": 19,
   "metadata": {},
   "outputs": [
    {
     "name": "stdout",
     "output_type": "stream",
     "text": [
      "Defaulting to user installation because normal site-packages is not writeable\n",
      "Requirement already satisfied: ortools in /home/ayda/.local/lib/python3.10/site-packages (9.6.2534)\n",
      "Requirement already satisfied: absl-py>=0.13 in /home/ayda/.local/lib/python3.10/site-packages (from ortools) (1.4.0)\n",
      "Requirement already satisfied: numpy>=1.13.3 in /home/ayda/.local/lib/python3.10/site-packages (from ortools) (1.24.3)\n",
      "Requirement already satisfied: protobuf>=4.21.12 in /home/ayda/.local/lib/python3.10/site-packages (from ortools) (4.23.3)\n",
      "Requirement already satisfied: scipy>=1.10.0 in /home/ayda/.local/lib/python3.10/site-packages (from ortools) (1.10.1)\n",
      "Note: you may need to restart the kernel to use updated packages.\n"
     ]
    }
   ],
   "source": [
    "%pip install ortools"
   ]
  },
  {
   "cell_type": "code",
   "execution_count": 27,
   "metadata": {},
   "outputs": [
    {
     "ename": "TypeError",
     "evalue": "list indices must be integers or slices, not tuple",
     "output_type": "error",
     "traceback": [
      "\u001b[0;31m---------------------------------------------------------------------------\u001b[0m",
      "\u001b[0;31mTypeError\u001b[0m                                 Traceback (most recent call last)",
      "Cell \u001b[0;32mIn[27], line 99\u001b[0m\n\u001b[1;32m     95\u001b[0m         \u001b[39mprint\u001b[39m(\u001b[39m'\u001b[39m\u001b[39mNo solution found.\u001b[39m\u001b[39m'\u001b[39m)\n\u001b[1;32m     98\u001b[0m \u001b[39mif\u001b[39;00m \u001b[39m__name__\u001b[39m \u001b[39m==\u001b[39m \u001b[39m'\u001b[39m\u001b[39m__main__\u001b[39m\u001b[39m'\u001b[39m:\n\u001b[0;32m---> 99\u001b[0m     main()\n",
      "Cell \u001b[0;32mIn[27], line 56\u001b[0m, in \u001b[0;36mmain\u001b[0;34m()\u001b[0m\n\u001b[1;32m     53\u001b[0m \u001b[39mfor\u001b[39;00m i \u001b[39min\u001b[39;00m \u001b[39mrange\u001b[39m(n):\n\u001b[1;32m     54\u001b[0m     \u001b[39mfor\u001b[39;00m j \u001b[39min\u001b[39;00m \u001b[39mrange\u001b[39m(k):\n\u001b[0;32m---> 56\u001b[0m         solver\u001b[39m.\u001b[39mAdd((data[\u001b[39m'\u001b[39m\u001b[39mN\u001b[39m\u001b[39m'\u001b[39m][i][\u001b[39m0\u001b[39m]\u001b[39m-\u001b[39mdata[\u001b[39m'\u001b[39;49m\u001b[39mc\u001b[39;49m\u001b[39m'\u001b[39;49m][j,\u001b[39m0\u001b[39;49m])\u001b[39m>\u001b[39m\u001b[39m=\u001b[39mdata[\u001b[39m'\u001b[39m\u001b[39ma\u001b[39m\u001b[39m'\u001b[39m][i,j])\n\u001b[1;32m     57\u001b[0m         solver\u001b[39m.\u001b[39mAdd((data[\u001b[39m'\u001b[39m\u001b[39mN\u001b[39m\u001b[39m'\u001b[39m][i][\u001b[39m0\u001b[39m]\u001b[39m-\u001b[39mdata[\u001b[39m'\u001b[39m\u001b[39mc\u001b[39m\u001b[39m'\u001b[39m][j,\u001b[39m0\u001b[39m])\u001b[39m<\u001b[39m\u001b[39m=\u001b[39m\u001b[39m-\u001b[39m\u001b[39m1\u001b[39m\u001b[39m*\u001b[39mdata[\u001b[39m'\u001b[39m\u001b[39ma\u001b[39m\u001b[39m'\u001b[39m][i,j])\n\u001b[1;32m     59\u001b[0m         solver\u001b[39m.\u001b[39mAdd((data[\u001b[39m'\u001b[39m\u001b[39mN\u001b[39m\u001b[39m'\u001b[39m][i][\u001b[39m1\u001b[39m]\u001b[39m-\u001b[39mdata[\u001b[39m'\u001b[39m\u001b[39mc\u001b[39m\u001b[39m'\u001b[39m][j,\u001b[39m1\u001b[39m])\u001b[39m>\u001b[39m\u001b[39m=\u001b[39mdata[\u001b[39m'\u001b[39m\u001b[39mc\u001b[39m\u001b[39m'\u001b[39m][i,j])\n",
      "\u001b[0;31mTypeError\u001b[0m: list indices must be integers or slices, not tuple"
     ]
    }
   ],
   "source": [
    "from ortools.linear_solver import pywraplp\n",
    "import math\n",
    "\n",
    "def main():\n",
    "    # Data\n",
    "    k=2\n",
    "    n=8\n",
    "\n",
    "\n",
    "    NN=[[-7, 6],\n",
    "    [-2, -9],\n",
    "    [2, 3],\n",
    "    [-7, -6],\n",
    "    [-7, 7],\n",
    "    [-8, 6],\n",
    "    [-2, 3],\n",
    "    [-1, -9]\n",
    "    ]\n",
    "\n",
    "    # Solver\n",
    "    # Create the mip solver with the SCIP backend.\n",
    "    '''  solver = pywraplp.Solver.CreateSolver('SAT')\n",
    "    if not solver:\n",
    "        return\n",
    "    '''\n",
    "    # Create the mip solver with the SCIP backend.\n",
    "    solver = pywraplp.Solver.CreateSolver('SCIP')\n",
    "\n",
    "    if not solver:\n",
    "        return\n",
    "\n",
    "    # Variables\n",
    "    #    array[1..k,1..2] of var int :c;\n",
    "    #array[1..n,1..k] of var bool:y;\n",
    "    # x[i, j] is an array of 0-1 variables, which will be 1\n",
    "    # if worker i is assigned to task j.\n",
    "    data = {}\n",
    "\n",
    "    infinity = 10000#solver.infinity()\n",
    "    \n",
    "    for i in range(n):\n",
    "        for j in range(k):\n",
    "            data['y'] =[solver.IntVar(0, 1,'') ,solver.IntVar(0, 1,'') ]\n",
    "            data['a'] =[solver.IntVar(0, infinity, '') , solver.IntVar(0, infinity, '')]\n",
    "            data['b'] =[solver.IntVar(0, infinity, '') ,solver.IntVar(0, infinity, '') ]\n",
    "    data[\"N\"] = NN \n",
    "\n",
    "    for i in range(k):\n",
    "        for j in range(2):\n",
    "            data['c']= [solver.IntVar(-infinity, infinity, '') ,solver.IntVar(-infinity, infinity, '')]\n",
    "\n",
    "    # Constraints\n",
    "    for i in range(n):\n",
    "        for j in range(k):\n",
    "            \n",
    "            solver.Add((data['N'][i,0]-data['c'][j,0])>=data['a'][i,j])\n",
    "            solver.Add((data['N'][i,0]-data['c'][j,0])<=-1*data['a'][i,j])\n",
    "\n",
    "            solver.Add((data['N'][i,1]-data['c'][j,1])>=data['c'][i,j])\n",
    "            solver.Add((data['N'][i,1]-data['c'][j,1])<=-1*data['b'][i,j])\n",
    "\n",
    "\n",
    "    for i in range(n):\n",
    "        solver.Add(solver.Sum([data['y'][i, j] for j in range(k)]) == 1)\n",
    "\n",
    "\n",
    "\n",
    "    # Each task is assigned to exactly one worker.\n",
    "    for j in range(k):\n",
    "        solver.Add(solver.Sum([data['y'][i, j] for i in range(n)]) >= 0)\n",
    "        solver.Add(solver.Sum([data['y'][i, j] for i in range(n)]) <= n)\n",
    "\n",
    "    # Objective\n",
    "    objective = solver.Objective()\n",
    "    for i in range(n):\n",
    "        for j in range(k):\n",
    "            objective.SetCoefficient(data['y'][i,j],(data['y'][i,j] + data['y'][i,j]) )\n",
    "\n",
    "    objective.SetMinimization()\n",
    "    # Solve\n",
    "    status = solver.Solve()\n",
    "\n",
    "    # Print solution.\n",
    "    if status == pywraplp.Solver.OPTIMAL or status == pywraplp.Solver.FEASIBLE:\n",
    "        print(f'Total cost = {solver.Objective().Value()}\\n')\n",
    "        print(c)\n",
    "        for i in range(n):\n",
    "            for j in range(k):\n",
    "            \n",
    "                # Test if x[i,j] is 1 (with tolerance for floating point arithmetic).\n",
    "                if y[i, j].solution_value() > 0.5:\n",
    "                    print(f'Worker {i} assigned to task {j}.' +\n",
    "                          f' Cost: {NN[i][j]}')\n",
    "    else:\n",
    "        print('No solution found.')\n",
    "\n",
    "\n",
    "if __name__ == '__main__':\n",
    "    main()"
   ]
  }
 ],
 "metadata": {
  "kernelspec": {
   "display_name": "Python 3",
   "language": "python",
   "name": "python3"
  },
  "language_info": {
   "codemirror_mode": {
    "name": "ipython",
    "version": 3
   },
   "file_extension": ".py",
   "mimetype": "text/x-python",
   "name": "python",
   "nbconvert_exporter": "python",
   "pygments_lexer": "ipython3",
   "version": "3.10.6"
  },
  "orig_nbformat": 4
 },
 "nbformat": 4,
 "nbformat_minor": 2
}
